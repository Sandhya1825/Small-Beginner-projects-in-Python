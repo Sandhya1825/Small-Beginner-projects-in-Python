{
 "cells": [
  {
   "cell_type": "code",
   "execution_count": null,
   "metadata": {},
   "outputs": [],
   "source": [
    "# Guess the number.\n",
    "\n",
    "#Write a program where the computer randomly generates a number. The user needs to guess what the number is. \n",
    "#If the user guesses wrong, tell them their guess is either too high, or too low. \n",
    "#This will get you started with the random library if you haven't already used it."
   ]
  },
  {
   "cell_type": "code",
   "execution_count": null,
   "metadata": {},
   "outputs": [
    {
     "name": "stdout",
     "output_type": "stream",
     "text": [
      "Enter a number:6\n",
      "No match\n",
      "want more play: (Y/N)Y\n",
      "Enter a number:56\n",
      "No match\n",
      "want more play: (Y/N)N\n"
     ]
    }
   ],
   "source": [
    "#Guess the number\n",
    "\n",
    "import random\n",
    "\n",
    "a=random.randrange(1,20)\n",
    "\n",
    "user_input=\"\"\n",
    "\n",
    "while user_input!=a:\n",
    "    user_input=int(input(\"Enter a number:\"))\n",
    "    if user_input==a:\n",
    "        print(\"Yaah!You got it\")\n",
    "    elif user_input!=a:\n",
    "        print(\"No match\")\n",
    "    user_input2=input(\"want more play: (Y/N)\")\n",
    "    if user_input2.lower()==\"Y\":\n",
    "        continue\n",
    "    elif user_input2.lower()==\"N\":\n",
    "        break\n",
    "    break"
   ]
  },
  {
   "cell_type": "code",
   "execution_count": 8,
   "metadata": {},
   "outputs": [
    {
     "name": "stdout",
     "output_type": "stream",
     "text": [
      "Enter a number:3\n",
      "No match\n",
      "want more play: (Y/N)Y\n",
      "Enter a number:4\n",
      "No match\n",
      "want more play: (Y/N)N\n"
     ]
    }
   ],
   "source": [
    "import random\n",
    "\n",
    "a=random.randrange(1,20)\n",
    "uinput = 'Y'\n",
    "\n",
    "user_input=\"\"\n",
    "\n",
    "while uinput=='Y':\n",
    "    user_input=int(input(\"Enter a number:\"))\n",
    "    if user_input==a:\n",
    "        print(\"Yaah!You got it\")\n",
    "    elif user_input!=a:\n",
    "        print(\"No match\")\n",
    "    uinput=input(\"want more play: (Y/N)\")"
   ]
  },
  {
   "cell_type": "code",
   "execution_count": null,
   "metadata": {},
   "outputs": [],
   "source": [
    "#Write a programme where the computer randomly generates a number between 0 and 20.\n",
    "#The user needs to guess what the number is. If the user guesses wrong, tell them their guess is either too high, or too low. \n",
    "#This will get you started with the random library if you haven't already used it."
   ]
  },
  {
   "cell_type": "code",
   "execution_count": 2,
   "metadata": {},
   "outputs": [
    {
     "name": "stdout",
     "output_type": "stream",
     "text": [
      "How many guesses you want to make?8\n",
      "From which number do you want to start:89\n",
      "To which number do you want to end:56\n",
      "The first number should not be higher than the second one\n",
      "From which number do you want to start:56\n",
      "To which number do you want to end:89\n",
      "You should choose numbers from 56 to 89:\n",
      "Pick a number:67\n",
      "THE SYSTEM CHOSE HIGHER NUMBER\n",
      "You have 7 more\n",
      "Pick a number:75\n",
      "THE SYSTEM CHOSE HIGHER NUMBER\n",
      "You have 6 more\n",
      "Pick a number:80\n",
      "THE SYSTEM CHOSE LOWER NUMBER\n",
      "You have 5 more\n",
      "Pick a number:78\n",
      "THE SYSTEM CHOSE LOWER NUMBER\n",
      "You have 4 more\n",
      "Pick a number:76\n",
      "YEAH YOU GOT IT\n",
      "You won the game\n"
     ]
    }
   ],
   "source": [
    "import random\n",
    "\n",
    "start_num=None\n",
    "end_num=None\n",
    "user=None\n",
    "guess_limit=None\n",
    "i=0\n",
    "a=False\n",
    "\n",
    "while guess_limit==None:\n",
    "    try:\n",
    "        guess_limit=int(input(\"How many guesses you want to make?\"))\n",
    "        if guess_limit<=0:\n",
    "            print(\"You have only one chance because you have given wrong input\")\n",
    "            guess_limit=1\n",
    "    except ValueError:\n",
    "        print(\"You have only 1 attempt\")\n",
    "        guess_limit=1\n",
    "\n",
    "while i==0:\n",
    "    while start_num==None and end_num==None:\n",
    "        try:\n",
    "            start_num=int(input(\"From which number do you want to start:\"))\n",
    "            end_num=int(input(\"To which number do you want to end:\"))\n",
    "        except ValueError:\n",
    "            print(\"Pick a number:\")\n",
    "    if start_num==end_num or start_num>end_num:\n",
    "        print(\"The first number should not be higher than the second one\")\n",
    "        start_num=None\n",
    "        end_num=None\n",
    "    else:\n",
    "        i+=1\n",
    "        computer=int(random.randrange(start_num,end_num))\n",
    "        x=0\n",
    "        print(\"You should choose numbers from \"+str(start_num)+\" to \"+str(end_num)+\":\")\n",
    "        while x==0:\n",
    "            while guess_limit!=0:\n",
    "                user=None\n",
    "                while user is None:\n",
    "                    try:\n",
    "                        user=int(input(\"Pick a number:\"))\n",
    "                    except ValueError:\n",
    "                        a=True\n",
    "                    if a:\n",
    "                        print(\"Please answer with a number:\")\n",
    "                        user=None\n",
    "                        a=False\n",
    "                    else:\n",
    "                        if user == computer:\n",
    "                            print(\"YEAH YOU GOT IT\")\n",
    "                            x += 1\n",
    "                            guess_limit = 0\n",
    "                        elif start_num <= user <= end_num and user > computer:\n",
    "                            print(\"THE SYSTEM CHOSE LOWER NUMBER\")\n",
    "                            guess_limit -= 1\n",
    "                            print(\"You have \" + str(guess_limit) + \" more\")\n",
    "                        elif start_num <= user <= end_num and user < computer:\n",
    "                            print(\"THE SYSTEM CHOSE HIGHER NUMBER\")\n",
    "                            guess_limit -= 1\n",
    "                            print(\"You have \" + str(guess_limit) + \" more\")\n",
    "                        elif user > end_num or user < start_num:\n",
    "                            print(\"Pick a number between \" + str(start_num) + \"-\" + str(end_num))\n",
    "                            guess_limit -= 1\n",
    "                            print(\"You have \" + str(guess_limit) + \" more\")\n",
    "        if guess_limit == 0 and x == 0:\n",
    "            print(\"You lost the game\")\n",
    "            break\n",
    "        else:\n",
    "            print(\"You won the game\")\n",
    "            break"
   ]
  },
  {
   "cell_type": "code",
   "execution_count": null,
   "metadata": {},
   "outputs": [],
   "source": [
    "#Rock, Paper & Scissors game\n",
    "\n",
    "#Make a rock-paper-scissors game where it is the player vs the computer.\n",
    "#The computer’s answer will be randomly generated, while the program will ask the user for their input. \n",
    "#This project will better your understanding of while loops and if statements."
   ]
  },
  {
   "cell_type": "code",
   "execution_count": 3,
   "metadata": {},
   "outputs": [
    {
     "name": "stdout",
     "output_type": "stream",
     "text": [
      "please enter the value you wish to choose:9\n",
      "You need to choose valid value\n",
      "please enter the value you wish to choose:gsg\n",
      "You need to choose valid value\n",
      "please enter the value you wish to choose:gergrwg\n",
      "You need to choose valid value\n",
      "please enter the value you wish to choose:scissors\n",
      "You need to choose valid value\n",
      "please enter the value you wish to choose:scissor\n",
      "Draw\n"
     ]
    }
   ],
   "source": [
    "import random\n",
    "\n",
    "user = None\n",
    "\n",
    "computer = random.choice(['rock','paper','scissor'])\n",
    "\n",
    "while user == None:\n",
    "    user = input('please enter the value you wish to choose:')\n",
    "    if user not in ['rock','paper','scissor']:\n",
    "        print('You need to choose valid value')\n",
    "        user = None\n",
    "\n",
    "\n",
    "if user == computer:\n",
    "    print('Draw')\n",
    "if user == 'rock':\n",
    "    if computer == 'paper':\n",
    "        print('computer wins')\n",
    "    elif computer == 'scissor':\n",
    "        print('user wins')\n",
    "if user == 'paper':\n",
    "    if computer == 'scissor':\n",
    "        print('computer wins')\n",
    "    elif computer == 'rock':\n",
    "        print('user wins')\n",
    "if user == 'scissor':\n",
    "    if computer == 'rock':\n",
    "        print('computer wins')\n",
    "    elif computer == 'paper':\n",
    "        print('user wins')\n",
    "\n",
    "#print('computer is {}'.format(computer))\n",
    "#print('user is {}'.format(user))"
   ]
  },
  {
   "cell_type": "code",
   "execution_count": null,
   "metadata": {},
   "outputs": [],
   "source": [
    "#Password Gennerator\n",
    "\n",
    "#Write a programme, which generates a random password for the user. Ask the user how long they want their password to be, \n",
    "#and how many letters and numbers they want in their password. Have a mix of upper and lowercase letters, \n",
    "#as well as numbers and symbols. The password should be a minimum of 6 characters long."
   ]
  },
  {
   "cell_type": "code",
   "execution_count": 7,
   "metadata": {},
   "outputs": [
    {
     "name": "stdout",
     "output_type": "stream",
     "text": [
      "Enter Number of letters of password: 6\n",
      "Enter Number of numbers of password: 2\n",
      "Your pasword is Ru@0SnlY!0#\n"
     ]
    }
   ],
   "source": [
    "\n",
    "import random\n",
    "import string\n",
    "\n",
    "letters_of_password = int(input('Enter Number of letters of password: '))\n",
    "numbers_of_password = int(input('Enter Number of numbers of password: '))\n",
    "\n",
    "number_list =  ''.join(random.choice(string.digits) for i in range(numbers_of_password))\n",
    "letter_list = ''.join(random.choice(string.ascii_letters) for i in range(letters_of_password))\n",
    "\t\n",
    "syntax_list = number_list + letter_list + '!@#'\n",
    "if len(syntax_list) < 6:\n",
    "    print('Password should be minimum 6 characters')\n",
    "    exit()\n",
    "result = random.sample(syntax_list, len(syntax_list)) \n",
    "password = ''.join((result))\n",
    "print('Your pasword is {}'.format(password))"
   ]
  },
  {
   "cell_type": "code",
   "execution_count": null,
   "metadata": {},
   "outputs": [],
   "source": [
    "#Hangman code"
   ]
  },
  {
   "cell_type": "code",
   "execution_count": null,
   "metadata": {},
   "outputs": [],
   "source": [
    "#This is probably the hardest one out of these 6 small projects. This will be similar to guessing the number, \n",
    "#except we are guessing the word. \n",
    "#The user needs to guess letters,\n",
    "#Give the user no more than 6 attempts for guessing wrong letter. This will mean you will have to have a counter. \n",
    "#You can download a ‘sowpods’ dictionary file or csv file to use as a way to get a random word to use."
   ]
  },
  {
   "cell_type": "code",
   "execution_count": null,
   "metadata": {},
   "outputs": [],
   "source": [
    "import random\n",
    "\n",
    "dic = {'guesses':0}\n",
    "guessedright = []\n",
    "guessedwrong = []\n",
    "word = \"\"\n",
    "words = [\"word\", \"two\"]\n",
    "\n",
    "def selectword():\n",
    "    number = random.randint(0,len(words)-1)\n",
    "    word = words[number]\n",
    "    return word\n",
    "\n",
    "def selectletter():\n",
    "    input_char = str(input(\"Letter, please: \"))\n",
    "    return input_char\n",
    "\n",
    "def add():\n",
    "    dic['guesses'] += 1\n",
    "\n",
    "def guess(numguess, word, input_char):\n",
    "    if dic['guesses'] == 0:\n",
    "        numguess = dic['guesses']\n",
    "    if numguess == 8:\n",
    "        print('You guessed wrong 8 times, game over. The word was ' + word.upper())\n",
    "    else:\n",
    "        if len(input_char.lower()) > 1:\n",
    "            print(\"Only 1 character allowed per guess.\")\n",
    "            guess(dic['guesses'], word, selectletter())\n",
    "        if all((g in set(guessedright)) for g in word):\n",
    "            print('Just playing. Game over, you won! The word was ' + word.upper())\n",
    "        else:\n",
    "            if input_char.lower() not in guessedright and input_char.lower() not in guessedwrong:\n",
    "                if input_char.lower() in word:\n",
    "                    guessedright.append(input_char.lower())\n",
    "                    print('Correct!')\n",
    "                    print(\"Correctly guessed: \" + ' '.join(map(str,guessedright)) + \"\\n\")\n",
    "                else:\n",
    "                    guessedwrong.append(input_char.lower())\n",
    "                    print('Incorrect, ' + str(7-(dic['guesses'])) + \" guesses left!\")\n",
    "                    print(\"Correctly guessed: \" + ' '.join(map(str,guessedright)) + \"\\n\")\n",
    "                    add()\n",
    "                    guess(dic['guesses'], word, selectletter())\n",
    "            else:\n",
    "                print('Already guessed letter ' + input_char.lower() + \"\\n\")\n",
    "            guess(dic['guesses'], word, selectletter())\n",
    "\n",
    "def game():\n",
    "    word = selectword().lower()\n",
    "    correctletters = set(word)\n",
    "    print(\"The word has \" + str(len(correctletters)) + \" different characters and \" + str(len(word)) + \" letters. Good luck!\")\n",
    "    guess(dic['guesses'], word, selectletter())\n",
    "        \n",
    "game()"
   ]
  },
  {
   "cell_type": "code",
   "execution_count": null,
   "metadata": {},
   "outputs": [],
   "source": []
  }
 ],
 "metadata": {
  "kernelspec": {
   "display_name": "Python 3",
   "language": "python",
   "name": "python3"
  },
  "language_info": {
   "codemirror_mode": {
    "name": "ipython",
    "version": 3
   },
   "file_extension": ".py",
   "mimetype": "text/x-python",
   "name": "python",
   "nbconvert_exporter": "python",
   "pygments_lexer": "ipython3",
   "version": "3.7.3"
  }
 },
 "nbformat": 4,
 "nbformat_minor": 2
}
